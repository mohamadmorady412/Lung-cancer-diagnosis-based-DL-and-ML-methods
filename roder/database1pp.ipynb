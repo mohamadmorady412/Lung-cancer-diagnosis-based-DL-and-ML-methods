{
 "cells": [
  {
   "cell_type": "markdown",
   "metadata": {},
   "source": [
    "# github/mohamadmorady412"
   ]
  },
  {
   "cell_type": "code",
   "execution_count": null,
   "metadata": {},
   "outputs": [],
   "source": [
    "! pip install kaggle"
   ]
  },
  {
   "cell_type": "code",
   "execution_count": null,
   "metadata": {},
   "outputs": [],
   "source": [
    "! mkdir ~/.kaggle\n",
    "! cp kaggle.json ~/.kaggle/\n",
    "! chmod 600 ~/.kaggle/kaggle.json\n",
    "! kaggle datasets download -d waseemnagahhenes/lung-cancer-dataset-iq-othnccd"
   ]
  },
  {
   "cell_type": "code",
   "execution_count": null,
   "metadata": {},
   "outputs": [],
   "source": [
    "from zipfile import ZipFile\n",
    "\n",
    "zip_file_name = \"/content/lung-cancer-dataset-iq-othnccd.zip\"\n",
    "\n",
    "with ZipFile(zip_file_name, 'r') as zip_ref:\n",
    "\n",
    "    zip_ref.printdir()\n",
    "    zip_ref.extractall('/content/Lung-data2')\n",
    "\n",
    "    print(\"Done!\")"
   ]
  },
  {
   "cell_type": "code",
   "execution_count": null,
   "metadata": {},
   "outputs": [],
   "source": [
    "import cv2\n",
    "i = cv2.imread(\"/content/Lung-data2/Data/The IQ-OTHNCCD lung cancer dataset/Bengin cases/Bengin case (1).jpg\")\n",
    "i"
   ]
  },
  {
   "cell_type": "code",
   "execution_count": null,
   "metadata": {},
   "outputs": [],
   "source": [
    "# clean after\n",
    "\n",
    "import os\n",
    "\n",
    "def conter(directory_path):\n",
    "  f = 0\n",
    "  for item in os.listdir(directory_path):\n",
    "    if os.path.isfile(os.path.join(directory_path, item)):\n",
    "      f += 1\n",
    "  print(f'number of file in {directory_path}: {f}')\n",
    "\n",
    "l = [\n",
    "    '/content/Lung-data2/Data/The IQ-OTHNCCD lung cancer dataset/Bengin cases',\n",
    "     '/content/Lung-data2/Data/The IQ-OTHNCCD lung cancer dataset/Malignant cases',\n",
    "     '/content/Lung-data2/Data/The IQ-OTHNCCD lung cancer dataset/Normal cases'\n",
    "     ]\n",
    "\n",
    "for i in l:\n",
    "  conter(i)"
   ]
  },
  {
   "cell_type": "code",
   "execution_count": null,
   "metadata": {},
   "outputs": [],
   "source": [
    "%matplotlib inline\n",
    "from numpy import save\n",
    "import matplotlib.pyplot as plt\n",
    "from sklearn.cluster import KMeans\n",
    "from keras.preprocessing.image import ImageDataGenerator\n",
    "from keras.applications import vgg16"
   ]
  },
  {
   "cell_type": "code",
   "execution_count": null,
   "metadata": {},
   "outputs": [],
   "source": [
    "generaitor = ImageDataGenerator(rescale=1./255)"
   ]
  },
  {
   "cell_type": "code",
   "execution_count": null,
   "metadata": {},
   "outputs": [],
   "source": [
    "gen = generaitor.flow_from_directory('/content/Lung-data2/Data/The IQ-OTHNCCD lung cancer dataset')"
   ]
  },
  {
   "cell_type": "code",
   "execution_count": null,
   "metadata": {},
   "outputs": [],
   "source": [
    "vgg_model = vgg16.VGG16(weights='imagenet', include_top=False, pooling='avg')"
   ]
  },
  {
   "cell_type": "code",
   "execution_count": null,
   "metadata": {},
   "outputs": [],
   "source": [
    "def extract_features(model, image):\n",
    "  features = model.predict(image)\n",
    "  features = features.flatten()\n",
    "  return features"
   ]
  },
  {
   "cell_type": "code",
   "execution_count": null,
   "metadata": {},
   "outputs": [],
   "source": [
    "features = extract_features(vgg_model, gen)"
   ]
  },
  {
   "cell_type": "code",
   "execution_count": null,
   "metadata": {},
   "outputs": [],
   "source": [
    "save('/content/drive/MyDrive/gogoly.npy', features)"
   ]
  },
  {
   "cell_type": "code",
   "execution_count": null,
   "metadata": {},
   "outputs": [],
   "source": [
    "def continue_toshape(data, data_size: int, num_features: int) -> np.array:\n",
    "    if data_size % num_features != 0:\n",
    "      s = f'data size {data_size} and num feachrs {num_features}: {data_size} / {num_features} == {data_size / num_features}'\n",
    "      raise ValueError(s)\n",
    "\n",
    "    target_array = np.zeros((data_size // num_features, num_features))\n",
    "\n",
    "    partition = num_features\n",
    "    row_conter = 0\n",
    "    for i in range(0, data_size, num_features):\n",
    "      target_array[row_conter] = data[i:partition]\n",
    "\n",
    "      row_conter += 1 ; partition += num_features\n",
    "    return target_array"
   ]
  },
  {
   "cell_type": "code",
   "execution_count": null,
   "metadata": {},
   "outputs": [],
   "source": [
    "kmeans = KMeans(3, random_state=0)\n",
    "kmeans.fit(X)\n",
    "labels = kmeans.labels_"
   ]
  },
  {
   "cell_type": "code",
   "execution_count": null,
   "metadata": {},
   "outputs": [],
   "source": [
    "from sklearn.metrics import confusion_matrix"
   ]
  },
  {
   "cell_type": "code",
   "execution_count": null,
   "metadata": {},
   "outputs": [],
   "source": [
    "y = np.zeros(2073)\n",
    "y[:120] = 1\n",
    "y[120:1339+120] = 2\n",
    "y[1339+120:] = 3\n",
    "\n",
    "cm = confusion_matrix(labels, y)\n",
    "print(cm)"
   ]
  },
  {
   "cell_type": "markdown",
   "metadata": {},
   "source": [
    "[[  0  16 160  81]\n",
    " [  0  68 694 289]\n",
    " [  0  36 485 244]\n",
    " [  0   0   0   0]]\n"
   ]
  }
 ],
 "metadata": {
  "language_info": {
   "name": "python"
  }
 },
 "nbformat": 4,
 "nbformat_minor": 2
}
